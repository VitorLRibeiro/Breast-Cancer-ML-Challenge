{
  "nbformat": 4,
  "nbformat_minor": 0,
  "metadata": {
    "colab": {
      "name": "Q4_solved.ipynb",
      "provenance": [],
      "collapsed_sections": []
    },
    "kernelspec": {
      "name": "python3",
      "display_name": "Python 3"
    },
    "accelerator": "GPU"
  },
  "cells": [
    {
      "cell_type": "code",
      "metadata": {
        "id": "MJbqQOeAo9zT",
        "colab_type": "code",
        "colab": {}
      },
      "source": [
        "# Install Java, Spark, and Findspark\n",
        "!apt-get install openjdk-8-jdk-headless -qq > /dev/null\n",
        "!wget -q http://www-us.apache.org/dist/spark/spark-2.4.5/spark-2.4.5-bin-hadoop2.7.tgz\n",
        "!tar xf spark-2.4.5-bin-hadoop2.7.tgz\n",
        "!pip install -q findspark\n",
        "\n",
        "# Set Environment Variables\n",
        "import os\n",
        "os.environ[\"JAVA_HOME\"] = \"/usr/lib/jvm/java-8-openjdk-amd64\"\n",
        "os.environ[\"SPARK_HOME\"] = \"/content/spark-2.4.5-bin-hadoop2.7\"\n",
        "\n",
        "# Start a SparkSession\n",
        "import findspark\n",
        "findspark.init()"
      ],
      "execution_count": 0,
      "outputs": []
    },
    {
      "cell_type": "code",
      "metadata": {
        "id": "IQrYXj6Oo_pX",
        "colab_type": "code",
        "colab": {}
      },
      "source": [
        "from pyspark.sql import SparkSession\n",
        "from pyspark.sql.functions import desc\n",
        "from pyspark import SparkFiles\n",
        "spark = SparkSession.builder.appName(\"Q4\").getOrCreate()"
      ],
      "execution_count": 0,
      "outputs": []
    },
    {
      "cell_type": "code",
      "metadata": {
        "id": "KFEJMGsOpJ4l",
        "colab_type": "code",
        "outputId": "07c4bf29-e43f-48e2-df6a-67771a0c85e6",
        "colab": {
          "base_uri": "https://localhost:8080/",
          "height": 34
        }
      },
      "source": [
        "# Load in user_data.csv from S3 into a DataFrame\n",
        "import os\n",
        "os.environ['KAGGLE_USERNAME'] = \"vlr324\" # username from the json file\n",
        "os.environ['KAGGLE_KEY'] = \"e5a1d0a21a41de581507fd5440fcbb12\" # key from the json file\n",
        "!kaggle datasets download -d paultimothymooney/breast-histopathology-images # api copied from kaggle"
      ],
      "execution_count": 24,
      "outputs": [
        {
          "output_type": "stream",
          "text": [
            "breast-histopathology-images.zip: Skipping, found more recently modified local copy (use --force to force download)\n"
          ],
          "name": "stdout"
        }
      ]
    },
    {
      "cell_type": "code",
      "metadata": {
        "id": "frLzZ3iMpNWF",
        "colab_type": "code",
        "colab": {}
      },
      "source": [
        "import zipfile\n",
        "\n",
        "zipref = zipfile.ZipFile('breast-histopathology-images.zip', 'r')\n",
        "zipref.extractall()\n",
        "zipref.close()\n"
      ],
      "execution_count": 0,
      "outputs": []
    },
    {
      "cell_type": "code",
      "metadata": {
        "id": "WLNo0TDk17vq",
        "colab_type": "code",
        "colab": {
          "base_uri": "https://localhost:8080/",
          "height": 706
        },
        "outputId": "750ea706-2c87-4f2a-a4e1-d0ec0c306c1d"
      },
      "source": [
        "!ls \"/content/\""
      ],
      "execution_count": 26,
      "outputs": [
        {
          "output_type": "stream",
          "text": [
            "10253  12242  12895  13459  15472  8916  9225\n",
            "10254  12626  12896  13460  15473  8917  9226\n",
            "10255  12748  12897  13461  15510  8918  9227\n",
            "10256  12749  12898  13462  15512  8950  9228\n",
            "10257  12750  12900  13591  15513  8951  9250\n",
            "10258  12751  12901  13613  15514  8955  9254\n",
            "10259  12752  12905  13616  15515  8956  9255\n",
            "10260  12810  12906  13617  15516  8957  9256\n",
            "10261  12811  12907  13666  15632  8959  9257\n",
            "10262  12817  12908  13687  15633  8974  9258\n",
            "10264  12818  12909  13688  15634  8975  9259\n",
            "10268  12819  12910  13689  15839  8980  9260\n",
            "10269  12820  12911  13691  15840  8984  9261\n",
            "10272  12821  12929  13692  15902  9022  9262\n",
            "10273  12822  12930  13693  15903  9023  9265\n",
            "10274  12823  12931  13694  16014  9029  9266\n",
            "10275  12824  12932  13916  16085  9035  9267\n",
            "10276  12826  12933  14078  16165  9036  9290\n",
            "10277  12867  12934  14079  16166  9037  9291\n",
            "10278  12868  12935  14081  16167  9041  9319\n",
            "10279  12869  12947  14082  16531  9043  9320\n",
            "10282  12870  12948  14153  16532  9044  9321\n",
            "10285  12871  12949  14154  16533  9073  9322\n",
            "10286  12872  12951  14155  16534  9075  9323\n",
            "10288  12873  12954  14156  16550  9076  9324\n",
            "10290  12875  12955  14157  16551  9077  9325\n",
            "10291  12876  13018  14188  16552  9078  9344\n",
            "10292  12877  13019  14189  16553  9081  9345\n",
            "10293  12878  13020  14190  16554  9083  9346\n",
            "10295  12879  13021  14191  16555  9123  9347\n",
            "10299  12880  13022  14192  16568  9124  9381\n",
            "10300  12881  13023  14209  16569  9125  9382\n",
            "10301  12882  13024  14210  16570  9126  9383\n",
            "10302  12883  13025  14211  16895  9135  breast-histopathology-images.zip\n",
            "10303  12884  13106  14212  16896  9173  IDC_regular_ps50_idx5\n",
            "10304  12886  13400  14213  8863   9174  sample_data\n",
            "10305  12890  13401  14304  8864   9175  spark-2.4.5-bin-hadoop2.7\n",
            "10306  12891  13402  14305  8865   9176  spark-2.4.5-bin-hadoop2.7.tgz\n",
            "10307  12892  13403  14306  8867   9177  spark-2.4.5-bin-hadoop2.7.tgz.1\n",
            "10308  12893  13404  14321  8913   9178\n",
            "12241  12894  13458  15471  8914   9181\n"
          ],
          "name": "stdout"
        }
      ]
    },
    {
      "cell_type": "code",
      "metadata": {
        "id": "uZXX8xXZDVgw",
        "colab_type": "code",
        "colab": {
          "base_uri": "https://localhost:8080/",
          "height": 67
        },
        "outputId": "cb5edc64-2788-4a60-bb42-ac1cc32c48e0"
      },
      "source": [
        "from IPython.display import Image\n",
        "Image('/content/10253/0/10253_idx5_x1001_y1001_class0.png')"
      ],
      "execution_count": 27,
      "outputs": [
        {
          "output_type": "execute_result",
          "data": {
            "image/png": "[encoded data removed]",
            "text/plain": [
              "<IPython.core.display.Image object>"
            ]
          },
          "metadata": {
            "tags": []
          },
          "execution_count": 27
        }
      ]
    },
    {
      "cell_type": "code",
      "metadata": {
        "id": "jXM_99NOEHGh",
        "colab_type": "code",
        "colab": {
          "base_uri": "https://localhost:8080/",
          "height": 34
        },
        "outputId": "dff23675-fd2d-4eb0-d15d-9f76393a5736"
      },
      "source": [
        "import glob\n",
        "local_path = \"/content/\"\n",
        "images = glob.glob(local_path + '*/*/*.png')\n",
        "len(images)\n"
      ],
      "execution_count": 34,
      "outputs": [
        {
          "output_type": "execute_result",
          "data": {
            "text/plain": [
              "277524"
            ]
          },
          "metadata": {
            "tags": []
          },
          "execution_count": 34
        }
      ]
    },
    {
      "cell_type": "code",
      "metadata": {
        "id": "l3qdlgUnFOQw",
        "colab_type": "code",
        "colab": {}
      },
      "source": [
        ""
      ],
      "execution_count": 0,
      "outputs": []
    }
  ]
}